{
  "nbformat": 4,
  "nbformat_minor": 0,
  "metadata": {
    "colab": {
      "provenance": [],
      "authorship_tag": "ABX9TyNnDa4DvnEOsxnD2AsLZ3vE",
      "include_colab_link": true
    },
    "kernelspec": {
      "name": "python3",
      "display_name": "Python 3"
    },
    "language_info": {
      "name": "python"
    }
  },
  "cells": [
    {
      "cell_type": "markdown",
      "metadata": {
        "id": "view-in-github",
        "colab_type": "text"
      },
      "source": [
        "<a href=\"https://colab.research.google.com/github/ashishgeddam2002/data-science-assignment-excelr/blob/main/assignment_2(set_1_desriptive_statistics_%2Bprobability(2).ipynb\" target=\"_parent\"><img src=\"https://colab.research.google.com/assets/colab-badge.svg\" alt=\"Open In Colab\"/></a>"
      ]
    },
    {
      "cell_type": "markdown",
      "source": [
        "Q1)"
      ],
      "metadata": {
        "id": "E39P2qjWbTZ9"
      }
    },
    {
      "cell_type": "code",
      "execution_count": null,
      "metadata": {
        "id": "ndYiXiVK4RvH",
        "colab": {
          "base_uri": "https://localhost:8080/",
          "height": 430
        },
        "outputId": "dd70498a-3f28-4313-d115-17be67fa5d71"
      },
      "outputs": [
        {
          "output_type": "display_data",
          "data": {
            "text/plain": [
              "<Figure size 640x480 with 1 Axes>"
            ],
            "image/png": "[encoded data removed]"
          },
          "metadata": {}
        }
      ],
      "source": [
        "import matplotlib.pyplot as plt\n",
        "import numpy as np\n",
        "import pandas as pd\n",
        "\n",
        "data = np.array([24.23,25.53,25.41,24.14,29.62,28.25,25.81,24.39,40.26,32.95,91.36,25.99,39.42,26.71,35.00])\n",
        "\n",
        "plt.boxplot(data)\n",
        "plt.show()\n",
        "\n"
      ]
    },
    {
      "cell_type": "code",
      "source": [
        "mu=np.mean(data)\n",
        "mu"
      ],
      "metadata": {
        "id": "LqJ1i7ujCrwO",
        "colab": {
          "base_uri": "https://localhost:8080/"
        },
        "outputId": "86975bf1-b631-487f-b0fa-9b753ebc1876"
      },
      "execution_count": null,
      "outputs": [
        {
          "output_type": "execute_result",
          "data": {
            "text/plain": [
              "33.27133333333333"
            ]
          },
          "metadata": {},
          "execution_count": 3
        }
      ]
    },
    {
      "cell_type": "code",
      "source": [
        "sigma=np.std(data)\n",
        "sigma"
      ],
      "metadata": {
        "id": "cuTWji4nDOJ-",
        "colab": {
          "base_uri": "https://localhost:8080/"
        },
        "outputId": "6212919e-3c24-4805-8227-6eb627bf4349"
      },
      "execution_count": null,
      "outputs": [
        {
          "output_type": "execute_result",
          "data": {
            "text/plain": [
              "16.370812590976932"
            ]
          },
          "metadata": {},
          "execution_count": 4
        }
      ]
    },
    {
      "cell_type": "code",
      "source": [
        "sigma_square=np.var(data)\n",
        "sigma_square\n"
      ],
      "metadata": {
        "id": "RnAoMVmWDY9_",
        "colab": {
          "base_uri": "https://localhost:8080/"
        },
        "outputId": "d40684e8-7bdd-45d7-d808-3c977574fcc9"
      },
      "execution_count": null,
      "outputs": [
        {
          "output_type": "execute_result",
          "data": {
            "text/plain": [
              "268.00350488888887"
            ]
          },
          "metadata": {},
          "execution_count": 5
        }
      ]
    },
    {
      "cell_type": "markdown",
      "source": [
        "***Q2)*** (1)What is the inter-quartile range of this dataset? (please approximate the numbers) In one line, explain what this value implies?\n",
        "\n",
        "Ans: - IQR = (Q3 – Q1) = (12 – 5) = 7(approx.)\n",
        "It tells about middle 50% of the data distribution and this data not affected by outliers.\n",
        "\n",
        "(2)What can we say about the skewness of this dataset?\n",
        "\n",
        "Ans: - Positive Skewness, due median is closer to lower quartile.\n",
        "\n",
        "\n",
        "\n",
        "(3)If it was found that the data point with the value 25 is actually 2.5, how would the new boxplot be affected?\n",
        "\n",
        "Ans: - There will be no outlier in the data and the point will be included in the main body or box of boxplot. The whisker on the right side of the boxplot would likely extend further, and the overall range of data represented by the boxplot would decrease."
      ],
      "metadata": {
        "id": "IpxQzQK4bXj5"
      }
    },
    {
      "cell_type": "markdown",
      "source": [
        "***Q3)***(1)Where would the mode of this dataset lie?\n",
        "\n",
        "Ans: - The mode of this dataset would lie around the value of 5 on the X-axis as that is where the highest frequency (around 20) occurs.\n",
        "\n",
        "\n",
        "(2)Comment on the skewness of the dataset?\n",
        "\n",
        "Ans: - The dataset is positively skewed, meaning that there are a number of smaller observations stretching the distribution to the right.\n",
        "\n",
        "\n",
        "\n",
        "(3)Suppose that the above histogram and the box-plot in question 2 are plotted for the same dataset. Explain how these graphs complement each other in providing information about any dataset?\n",
        "\n",
        "Ans: - Histogram can provide insights into the distribution and skewness of data, while box-plots can offer additional information about data’s central tendency, variability, and presence of outliers. Box-plots can complement histograms by providing a visual representation of the median, quartiles, and outliers of the data.\n"
      ],
      "metadata": {
        "id": "3gp2VbBucQir"
      }
    },
    {
      "cell_type": "markdown",
      "source": [
        "***Q4)*** P (directed correctly) = 1 – 1/200 = 199/200\n",
        "The probability for at least one in five attempted telephone calls reaching the wrong number is:\n",
        "          P (at least one in five is wrong number) = 1 – P (none in five is wrong)                      = 1 – (199/200)^5 ≈ 0.02475\n",
        "Therefore, the probability that at least one in five attempted telephone calls reaches the wrong number is approximately 0.02475."
      ],
      "metadata": {
        "id": "HbAC76cYbnWz"
      }
    },
    {
      "cell_type": "markdown",
      "source": [
        "***Q5)***(1)What is the most likely monetary outcome of the business venture?\n",
        "\n",
        "Ans: - The most likely monetary outcome of the business venture is $2,000 as it has the highest probability of 0.3.\n",
        "\n",
        "\n",
        "(2)Is the venture likely to be successful? Explain\n",
        "\n",
        "Ans: - The venture has a 0.6 probability of either breaking even or making a profit, and a 0.2 probability of making a loss. So, it is more likely to be successful than unsuccessful.\n",
        "\n",
        "\n",
        "(3)What is the long-term average earning of business ventures of this kind? Explain\n",
        "\n",
        "Ans: -  The long-term average earning can be calculated by multiplying each outcome by its probability and summing those products:\n",
        "      \n",
        "x = 800\n",
        "Therefore, the average earning is equals to $800\n",
        "\n",
        "\n",
        "(4)What is a good measure of the risk involved in a venture of this kind? Compute this measure?\n",
        "\n",
        "Ans: - The expected value is $800 , the standard deviation,which measures the risk invovled in this venture , is approx 1260.62. in this case the risk is high\n"
      ],
      "metadata": {
        "id": "xQR7I3o0dZr6"
      }
    }
  ]
}